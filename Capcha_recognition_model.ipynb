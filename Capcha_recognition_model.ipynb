{
 "cells": [
  {
   "cell_type": "code",
   "execution_count": 1,
   "metadata": {},
   "outputs": [],
   "source": [
    "import os\n",
    "import cv2\n",
    "import numpy as np\n",
    "import matplotlib.pyplot as plt\n",
    "CAPTCHA_IMAGE_FOLDER = \"generated_captcha_images\"\n",
    "OUTPUT_FOLDER = \"extracted_letter_images\""
   ]
  },
  {
   "cell_type": "code",
   "execution_count": 2,
   "metadata": {},
   "outputs": [],
   "source": [
    "def generate_data():\n",
    "    char_folders=os.listdir(OUTPUT_FOLDER)\n",
    "    images=[]\n",
    "    labels=[]\n",
    "    for folder in char_folders:\n",
    "        if(folder.startswith('.')):\n",
    "            continue\n",
    "        char_path=os.listdir(OUTPUT_FOLDER+'/'+folder)\n",
    "        for imag in char_path:\n",
    "            img=cv2.imread(OUTPUT_FOLDER+'/'+folder+'/'+imag,0)\n",
    "            img=cv2.resize(img,(20,20))\n",
    "            #img = (img-img.mean())/img.std()\n",
    "            img = img.reshape((20,20,1))\n",
    "            images.append(img)\n",
    "            labels.append(folder)\n",
    "    print(len(images))\n",
    "    print(len(labels))\n",
    "    return images,labels"
   ]
  },
  {
   "cell_type": "code",
   "execution_count": 3,
   "metadata": {},
   "outputs": [
    {
     "name": "stdout",
     "output_type": "stream",
     "text": [
      "37896\n",
      "37896\n"
     ]
    }
   ],
   "source": [
    "xtrain,ytrain=generate_data()"
   ]
  },
  {
   "cell_type": "code",
   "execution_count": 4,
   "metadata": {},
   "outputs": [
    {
     "data": {
      "text/plain": [
       "'R'"
      ]
     },
     "execution_count": 4,
     "metadata": {},
     "output_type": "execute_result"
    }
   ],
   "source": [
    "ytrain[0]"
   ]
  },
  {
   "cell_type": "code",
   "execution_count": 5,
   "metadata": {},
   "outputs": [
    {
     "name": "stdout",
     "output_type": "stream",
     "text": [
      "R\n",
      "['2' '3' '4' '5' '6' '7' '8' '9' 'A' 'B' 'C' 'D' 'E' 'F' 'G' 'H' 'J' 'K'\n",
      " 'L' 'M' 'N' 'P' 'Q' 'R' 'S' 'T' 'U' 'V' 'W' 'X' 'Y' 'Z']\n",
      "[0 0 0 0 0 0 0 0 0 0 0 0 0 0 0 0 0 0 0 0 0 0 0 1 0 0 0 0 0 0 0 0]\n",
      "(37896, 32)\n"
     ]
    }
   ],
   "source": [
    "from sklearn.preprocessing import LabelBinarizer\n",
    "lb=LabelBinarizer()\n",
    "lb.fit(ytrain)\n",
    "print(ytrain[0])\n",
    "print(lb.classes_)\n",
    "ytrain=lb.transform(ytrain)\n",
    "print(ytrain[0])\n",
    "print(ytrain.shape)\n",
    "# labels=lb.inverse_transform(labels)"
   ]
  },
  {
   "cell_type": "code",
   "execution_count": 6,
   "metadata": {},
   "outputs": [
    {
     "data": {
      "text/plain": [
       "<matplotlib.image.AxesImage at 0x1a237572b0>"
      ]
     },
     "execution_count": 6,
     "metadata": {},
     "output_type": "execute_result"
    },
    {
     "data": {
      "image/png": "[encoded data removed]",
      "text/plain": [
       "<Figure size 432x288 with 1 Axes>"
      ]
     },
     "metadata": {
      "needs_background": "light"
     },
     "output_type": "display_data"
    }
   ],
   "source": [
    "xtrain_np=np.array(xtrain,dtype=float)/255.0\n",
    "plt.imshow(cv2.cvtColor(xtrain[1933].reshape(20,20), cv2.COLOR_BGR2RGB))"
   ]
  },
  {
   "cell_type": "code",
   "execution_count": 7,
   "metadata": {},
   "outputs": [],
   "source": [
    "from sklearn.model_selection import train_test_split\n",
    "Xtrain,Xval,Ytrain,Yval=train_test_split(xtrain_np,ytrain,test_size=0.1)"
   ]
  },
  {
   "cell_type": "code",
   "execution_count": 8,
   "metadata": {},
   "outputs": [
    {
     "name": "stderr",
     "output_type": "stream",
     "text": [
      "Using TensorFlow backend.\n"
     ]
    }
   ],
   "source": [
    "from keras.models import Sequential\n",
    "from keras.layers import Dense,Conv2D,MaxPooling2D,Flatten"
   ]
  },
  {
   "cell_type": "code",
   "execution_count": 9,
   "metadata": {
    "scrolled": true
   },
   "outputs": [
    {
     "name": "stdout",
     "output_type": "stream",
     "text": [
      "_________________________________________________________________\n",
      "Layer (type)                 Output Shape              Param #   \n",
      "=================================================================\n",
      "conv2d_1 (Conv2D)            (None, 20, 20, 128)       3328      \n",
      "_________________________________________________________________\n",
      "max_pooling2d_1 (MaxPooling2 (None, 10, 10, 128)       0         \n",
      "_________________________________________________________________\n",
      "conv2d_2 (Conv2D)            (None, 10, 10, 64)        131136    \n",
      "_________________________________________________________________\n",
      "max_pooling2d_2 (MaxPooling2 (None, 5, 5, 64)          0         \n",
      "_________________________________________________________________\n",
      "flatten_1 (Flatten)          (None, 1600)              0         \n",
      "_________________________________________________________________\n",
      "dense_1 (Dense)              (None, 32)                51232     \n",
      "=================================================================\n",
      "Total params: 185,696\n",
      "Trainable params: 185,696\n",
      "Non-trainable params: 0\n",
      "_________________________________________________________________\n"
     ]
    }
   ],
   "source": [
    "model=Sequential()\n",
    "model.add(Conv2D(128,kernel_size=5,strides=1,padding=\"Same\",activation=\"relu\",input_shape=(20,20,1)))\n",
    "model.add(MaxPooling2D(pool_size=2,padding='Same'))\n",
    "model.add(Conv2D(64,kernel_size=4,strides=1,padding='Same',activation='relu'))\n",
    "model.add(MaxPooling2D(pool_size=2,padding='Same'))\n",
    "model.add(Flatten())\n",
    "model.add(Dense(32,activation='sigmoid'))\n",
    "model.compile(optimizer=\"adam\",loss=\"categorical_crossentropy\",metrics=[\"accuracy\"])\n",
    "model.summary()"
   ]
  },
  {
   "cell_type": "code",
   "execution_count": 10,
   "metadata": {},
   "outputs": [
    {
     "name": "stdout",
     "output_type": "stream",
     "text": [
      "Train on 34106 samples, validate on 3790 samples\n",
      "Epoch 1/5\n",
      "34106/34106 [==============================] - 102s 3ms/step - loss: 0.3037 - acc: 0.9243 - val_loss: 0.0374 - val_acc: 0.9937\n",
      "Epoch 2/5\n",
      "34106/34106 [==============================] - 134s 4ms/step - loss: 0.0149 - acc: 0.9970 - val_loss: 0.0323 - val_acc: 0.9921\n",
      "Epoch 3/5\n",
      "34106/34106 [==============================] - 66s 2ms/step - loss: 0.0060 - acc: 0.9986 - val_loss: 0.0221 - val_acc: 0.9963\n",
      "Epoch 4/5\n",
      "34106/34106 [==============================] - 68s 2ms/step - loss: 0.0030 - acc: 0.9991 - val_loss: 0.0171 - val_acc: 0.9979\n",
      "Epoch 5/5\n",
      "34106/34106 [==============================] - 69s 2ms/step - loss: 0.0033 - acc: 0.9993 - val_loss: 0.0248 - val_acc: 0.9971\n"
     ]
    },
    {
     "data": {
      "text/plain": [
       "<keras.callbacks.History at 0x1a43137080>"
      ]
     },
     "execution_count": 10,
     "metadata": {},
     "output_type": "execute_result"
    }
   ],
   "source": [
    "model.fit(Xtrain,Ytrain,validation_data=(Xval,Yval),batch_size=64,epochs=5)"
   ]
  },
  {
   "cell_type": "code",
   "execution_count": 11,
   "metadata": {},
   "outputs": [
    {
     "name": "stdout",
     "output_type": "stream",
     "text": [
      "34106/34106 [==============================] - 20s 597us/step\n"
     ]
    },
    {
     "data": {
      "text/plain": [
       "[0.002699505389853501, 0.9994429132703923]"
      ]
     },
     "execution_count": 11,
     "metadata": {},
     "output_type": "execute_result"
    }
   ],
   "source": [
    "model.evaluate(Xtrain,Ytrain)"
   ]
  },
  {
   "cell_type": "code",
   "execution_count": 52,
   "metadata": {},
   "outputs": [],
   "source": [
    "out=[]\n",
    "def test(image_names):\n",
    "    CAPTCHA_IMG_FOLDER=CAPTCHA_IMAGE_FOLDER+'/'+'train_images'\n",
    "    for image in image_names:\n",
    "        if(image.startswith('.')):\n",
    "            continue\n",
    "        im_path=CAPTCHA_IMG_FOLDER +'/'+ image\n",
    "        gray=cv2.imread(im_path)\n",
    "        gray = cv2.cvtColor(gray, cv2.COLOR_BGR2GRAY)\n",
    "        gray = cv2.copyMakeBorder(gray, 20, 20, 20, 20, cv2.BORDER_REPLICATE)\n",
    "        thresh = cv2.threshold(gray,0,255,cv2.THRESH_BINARY_INV | cv2.THRESH_OTSU)[1]\n",
    "        contours= cv2.findContours(thresh, cv2.RETR_EXTERNAL, cv2.CHAIN_APPROX_SIMPLE)\n",
    "        contours=contours[0]\n",
    "        im_letters=[]\n",
    "        for contour in contours:\n",
    "            (x,y,w,h)=cv2.boundingRect(contour)\n",
    "            if w/h>1.5:\n",
    "                im_letters.append((x,y,w//2,h))\n",
    "                im_letters.append((x+w//2,y,w//2,h))\n",
    "            else:\n",
    "                im_letters.append((x,y,w,h))\n",
    "        if(len(im_letters)!=4):\n",
    "            continue\n",
    "        im_letters=sorted(im_letters,key=lambda x : x[0])\n",
    "        output = cv2.merge([gray] * 3)\n",
    "        predictions = []\n",
    "        for letter_box in im_letters:\n",
    "            (x,y,w,h)=letter_box\n",
    "            letter_img=gray[y-2:y+h+2,x-2:x+w+2]\n",
    "            img=cv2.resize(letter_img,(20,20))\n",
    "            img = img.reshape((1,20,20,1))\n",
    "            pred=model.predict(img)\n",
    "            p_letter=lb.inverse_transform(pred)[0]\n",
    "            predictions.append(p_letter)\n",
    "            cv2.rectangle(output, (x - 2, y - 2), (x + w + 4, y + h + 4), (0, 255, 0), 1)\n",
    "            cv2.putText(output, p_letter, (x - 5, y - 5), cv2.FONT_HERSHEY_SIMPLEX, 0.55, (0, 255, 0), 2)\n",
    "        capcha_test=\"\".join(predictions)\n",
    "        if(capcha_test==image.split('.')[0]):\n",
    "            out.append(output)"
   ]
  },
  {
   "cell_type": "code",
   "execution_count": 53,
   "metadata": {},
   "outputs": [],
   "source": [
    "test_images=os.listdir(CAPTCHA_IMAGE_FOLDER+'/'+'train_images')[0:100]\n",
    "test(test_images)"
   ]
  },
  {
   "cell_type": "code",
   "execution_count": 54,
   "metadata": {},
   "outputs": [
    {
     "data": {
      "text/plain": [
       "<matplotlib.image.AxesImage at 0x1a451cf160>"
      ]
     },
     "execution_count": 54,
     "metadata": {},
     "output_type": "execute_result"
    },
    {
     "data": {
      "image/png": "[encoded data removed]",
      "text/plain": [
       "<Figure size 432x288 with 1 Axes>"
      ]
     },
     "metadata": {
      "needs_background": "light"
     },
     "output_type": "display_data"
    }
   ],
   "source": [
    "plt.imshow(out[0])"
   ]
  },
  {
   "cell_type": "code",
   "execution_count": 55,
   "metadata": {},
   "outputs": [
    {
     "data": {
      "text/plain": [
       "<matplotlib.image.AxesImage at 0x1a45227f28>"
      ]
     },
     "execution_count": 55,
     "metadata": {},
     "output_type": "execute_result"
    },
    {
     "data": {
      "image/png": "[encoded data removed]",
      "text/plain": [
       "<Figure size 432x288 with 1 Axes>"
      ]
     },
     "metadata": {
      "needs_background": "light"
     },
     "output_type": "display_data"
    }
   ],
   "source": [
    "plt.imshow(out[1])"
   ]
  },
  {
   "cell_type": "code",
   "execution_count": 56,
   "metadata": {},
   "outputs": [
    {
     "data": {
      "text/plain": [
       "<matplotlib.image.AxesImage at 0x1a45525e48>"
      ]
     },
     "execution_count": 56,
     "metadata": {},
     "output_type": "execute_result"
    },
    {
     "data": {
      "image/png": "[encoded data removed]",
      "text/plain": [
       "<Figure size 432x288 with 1 Axes>"
      ]
     },
     "metadata": {
      "needs_background": "light"
     },
     "output_type": "display_data"
    }
   ],
   "source": [
    "plt.imshow(out[2])"
   ]
  },
  {
   "cell_type": "code",
   "execution_count": null,
   "metadata": {},
   "outputs": [],
   "source": []
  }
 ],
 "metadata": {
  "kernelspec": {
   "display_name": "Python 3",
   "language": "python",
   "name": "python3"
  },
  "language_info": {
   "codemirror_mode": {
    "name": "ipython",
    "version": 3
   },
   "file_extension": ".py",
   "mimetype": "text/x-python",
   "name": "python",
   "nbconvert_exporter": "python",
   "pygments_lexer": "ipython3",
   "version": "3.6.6"
  }
 },
 "nbformat": 4,
 "nbformat_minor": 2
}
