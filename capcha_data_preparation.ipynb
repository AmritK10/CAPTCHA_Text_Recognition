{
 "cells": [
  {
   "cell_type": "markdown",
   "metadata": {},
   "source": [
    "# Data Preparation"
   ]
  },
  {
   "cell_type": "code",
   "execution_count": 1,
   "metadata": {},
   "outputs": [],
   "source": [
    "#importing the dependencies\n",
    "import os\n",
    "import cv2\n",
    "import numpy as np\n",
    "import matplotlib.pyplot as plt\n",
    "CAPTCHA_IMAGE_FOLDER = \"generated_captcha_images\"\n",
    "OUTPUT_FOLDER = \"extracted_letter_images\""
   ]
  },
  {
   "cell_type": "code",
   "execution_count": 2,
   "metadata": {},
   "outputs": [],
   "source": [
    "#forming the train and test directories\n",
    "image_names=os.listdir(CAPTCHA_IMAGE_FOLDER)\n",
    "test_image_names=image_names[:100]\n",
    "train_image_names=image_names[100:]\n",
    "os.mkdir(CAPTCHA_IMAGE_FOLDER+'/'+'train_images')\n",
    "os.mkdir(CAPTCHA_IMAGE_FOLDER+'/'+'test_images')\n",
    "for image in train_image_names:\n",
    "    os.rename(CAPTCHA_IMAGE_FOLDER+'/'+image,CAPTCHA_IMAGE_FOLDER+'/'+'train_images/'+image)\n",
    "for image in test_image_names:\n",
    "    os.rename(CAPTCHA_IMAGE_FOLDER+'/'+image,CAPTCHA_IMAGE_FOLDER+'/'+'test_images/'+image)"
   ]
  },
  {
   "cell_type": "markdown",
   "metadata": {},
   "source": [
    "## Forming our data set of single characters using contours to segment the CAPTCHA letters"
   ]
  },
  {
   "cell_type": "code",
   "execution_count": 3,
   "metadata": {},
   "outputs": [],
   "source": [
    "def preprocess(image_names):\n",
    "    letter_count={}\n",
    "    i=1\n",
    "    CAPTCHA_IMG_FOLDER=CAPTCHA_IMAGE_FOLDER+'/'+'train_images'\n",
    "    for image in image_names:\n",
    "        print(\"images processed: \",i,\"out of \",len(image_names))\n",
    "        i+=1\n",
    "        if(image.startswith('.')):\n",
    "            continue\n",
    "        im_path=CAPTCHA_IMG_FOLDER +'/'+ image\n",
    "        img=cv2.imread(im_path) #reading the image\n",
    "        gray = cv2.cvtColor(img, cv2.COLOR_BGR2GRAY) #converting to gray scale\n",
    "        gray = cv2.copyMakeBorder(gray, 8, 8, 8, 8, cv2.BORDER_REPLICATE) # Add some extra padding around the image\n",
    "        thresh = cv2.threshold(gray,0,255,cv2.THRESH_BINARY_INV | cv2.THRESH_OTSU)[1]  # threshold the image (convert it to pure black and white)\n",
    "        contours= cv2.findContours(thresh, cv2.RETR_EXTERNAL, cv2.CHAIN_APPROX_SIMPLE) # find the contours (continuous blobs of pixels) the image\n",
    "        contours=contours[0]\n",
    "        im_letters=[]\n",
    "        for contour in contours: # Now we can loop through each of the four contours and extract the letter inside of each one\n",
    "            (x,y,w,h)=cv2.boundingRect(contour)\n",
    "            if w/h>1.5: #if contour to wide the split it into 2 \n",
    "                im_letters.append((x,y,w//2,h))\n",
    "                im_letters.append((x+w//2,y,w//2,h))\n",
    "            else:\n",
    "                im_letters.append((x,y,w,h))\n",
    "        if(len(im_letters)!=4):\n",
    "            continue\n",
    "        im_letters=sorted(im_letters,key=lambda x : x[0]) #Sort the detected letter images based on the x coordinate to make sure we are processing them from left-to-right\n",
    "        capcha=str(image).split('.')[0]\n",
    "        for letter_box,letter in zip(im_letters,capcha): # Save out each letter as a single image\n",
    "            (x,y,w,h)=letter_box\n",
    "            letter_img=gray[y-2:y+h+2,x-2:x+w+2] # Extract the letter from the original image with a 2-pixel margin around the edge\n",
    "            l_count=letter_count.get(letter,1)\n",
    "            l_imfolder_path=OUTPUT_FOLDER + '/' +letter\n",
    "            l_img_path=l_imfolder_path+'/'+str(l_count).zfill(6)+'.png'\n",
    "            if(letter not in os.listdir(OUTPUT_FOLDER)):\n",
    "                os.mkdir(l_imfolder_path)\n",
    "            cv2.imwrite(l_img_path, letter_img) # write the letter image to a file\n",
    "            letter_count[letter]=l_count+1"
   ]
  },
  {
   "cell_type": "code",
   "execution_count": null,
   "metadata": {},
   "outputs": [],
   "source": [
    "preprocess(train_image_names)"
   ]
  }
 ],
 "metadata": {
  "kernelspec": {
   "display_name": "Python 3",
   "language": "python",
   "name": "python3"
  },
  "language_info": {
   "codemirror_mode": {
    "name": "ipython",
    "version": 3
   },
   "file_extension": ".py",
   "mimetype": "text/x-python",
   "name": "python",
   "nbconvert_exporter": "python",
   "pygments_lexer": "ipython3",
   "version": "3.6.6"
  }
 },
 "nbformat": 4,
 "nbformat_minor": 2
}
